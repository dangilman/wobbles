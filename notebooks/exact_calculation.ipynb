{
 "cells": [
  {
   "cell_type": "code",
   "execution_count": null,
   "metadata": {},
   "outputs": [],
   "source": [
    "from wobbles.workflow.integrate_single_orbit import integrate_orbit\n",
    "from wobbles.workflow.compute_distribution_function import compute_df\n",
    "from wobbles.disc import Disc\n",
    "import numpy as np\n",
    "import galpy\n",
    "from galpy import util\n",
    "from galpy.potential import MovingObjectPotential\n",
    "from galpy.potential import MWPotential2014\n",
    "from galpy.potential import evaluatePotentials\n",
    "from galpy.util.bovy_conversion import get_physical\n",
    "from galpy.orbit import Orbit\n",
    "import astropy.units as apu\n",
    "from wobbles.potential_extension import PotentialExtension\n",
    "from wobbles.distribution_function import DistributionFunction\n",
    "import matplotlib.pyplot as plt\n",
    "import pickle\n",
    "from scipy.interpolate import interp1d"
   ]
  },
  {
   "cell_type": "markdown",
   "metadata": {},
   "source": [
    "## First do the computation with wobbles"
   ]
  },
  {
   "cell_type": "code",
   "execution_count": null,
   "metadata": {},
   "outputs": [],
   "source": [
    "f = open('MW14pot_100', \"rb\")\n",
    "potential_extension = pickle.load(f)\n",
    "units = potential_extension.units\n",
    "f.close()\n",
    "\n",
    "# Initialize Sagitarrius orbit\n",
    "t_orbit = -1.64 # Gyr\n",
    "N_tsteps = 1200\n",
    "time_Gyr = np.linspace(0., t_orbit, N_tsteps) * apu.Gyr \n",
    "orbit_init_sag = [283. * apu.deg, -30. * apu.deg, 26. * apu.kpc,\n",
    "        -2.6 * apu.mas/apu.yr, -1.3 * apu.mas/apu.yr, 140. * apu.km/apu.s] # Initial conditions of the satellite\n",
    "sag_orbit_phsical_off = integrate_orbit(orbit_init_sag, potential_extension.galactic_potential, time_Gyr)\n",
    "satellite_orbit_list = [sag_orbit_phsical_off]\n",
    "\n",
    "# endow satellite with mass\n",
    "satellite_potential_1 = galpy.potential.HernquistPotential(amp=2.*1e10*apu.M_sun,a= 3.*apu.kpc) \n",
    "satellite_potential_2 = galpy.potential.HernquistPotential(amp=2.*0.2e9*apu.M_sun,a=0.65*apu.kpc) \n",
    "satellite_potential = satellite_potential_1 + satellite_potential_2\n",
    "galpy.potential.turn_physical_off(satellite_potential)\n",
    "satellite_potential_list = [satellite_potential]\n",
    "\n",
    "# Initialize the main class\n",
    "disc = Disc(potential_extension, potential_extension)\n",
    "time_internal_units = sag_orbit_phsical_off.time()\n",
    "velocity_dispersion = [20.5]\n",
    "normalization = [1.]\n",
    "\n",
    "distribution_function, delta_J, force = compute_df(disc, time_internal_units,\n",
    "                          satellite_orbit_list, satellite_potential_list, velocity_dispersion, normalization, \n",
    "                                                   verbose=False)\n",
    "\n",
    "satellite_potential_list[0][0] *= 0.\n",
    "satellite_potential_list[0][1] *= 0.\n",
    "distribution_function_no_perturbation, _, _ = compute_df(disc, time_internal_units,\n",
    "                          satellite_orbit_list, satellite_potential_list, velocity_dispersion, normalization, \n",
    "                                                     verbose=False)"
   ]
  },
  {
   "cell_type": "markdown",
   "metadata": {},
   "source": [
    "## Plot results"
   ]
  },
  {
   "cell_type": "code",
   "execution_count": null,
   "metadata": {},
   "outputs": [],
   "source": [
    "fig = plt.figure(1)\n",
    "fig.set_size_inches(20, 6)\n",
    "ax1 = plt.subplot(131)\n",
    "ax2 = plt.subplot(132)\n",
    "ax3 = plt.subplot(133)\n",
    "\n",
    "_z = np.linspace(0, 2, len(distribution_function.A))\n",
    "ax1.plot(_z, distribution_function.A)\n",
    "ax1.plot(_z, distribution_function_no_perturbation.A)\n",
    "ax1.set_xlabel('z [kpc]', fontsize=16)\n",
    "ax1.set_ylabel('asymmetry', fontsize=16)\n",
    "\n",
    "_z = np.linspace(-2, 2, len(distribution_function.mean_v_relative))\n",
    "ax2.plot(_z, distribution_function.mean_v_relative, label='with perturbation')\n",
    "ax2.plot(_z, distribution_function_no_perturbation.mean_v_relative, label='steady state')\n",
    "ax2.set_xlabel('z [kpc]', fontsize=16)\n",
    "ax2.set_ylabel(r'$\\langle v_z \\rangle$', fontsize=16)\n",
    "ax2.legend(fontsize=18, frameon=False)\n",
    "\n",
    "_z = np.linspace(-2, 2, len(distribution_function.velocity_dispersion))\n",
    "ax3.plot(_z, distribution_function.velocity_dispersion)\n",
    "ax3.plot(_z, distribution_function_no_perturbation.velocity_dispersion)\n",
    "ax3.set_xlabel('z [kpc]', fontsize=16)\n",
    "ax3.set_ylabel(r'$\\langle v_z^2 \\rangle$', fontsize=16)"
   ]
  },
  {
   "cell_type": "markdown",
   "metadata": {},
   "source": [
    "## Now we'll do the full computation by integrating the orbits of a bunch of test particles in the Milky Way + satellite potential. \n",
    "\n",
    "### We'll initialize the heights and velocities using the steady-state unperturbed solution"
   ]
  },
  {
   "cell_type": "code",
   "execution_count": null,
   "metadata": {
    "scrolled": false
   },
   "outputs": [],
   "source": [
    "# start by sampling the z coordinate of each test particle\n",
    "density = distribution_function_no_perturbation.density\n",
    "z = np.linspace(-2, 2, len(density))\n",
    "density_pdf = interp1d(z, density/max(density))\n",
    "\n",
    "def sample_pdf(N, zmin, zmax, func):\n",
    "    \n",
    "    if N==1:\n",
    "        u = np.random.rand()\n",
    "        z_sample = np.random.uniform(zmin, zmax)\n",
    "        prob = func(z_sample)\n",
    "        if prob > u:\n",
    "            return z_sample\n",
    "    else:\n",
    "        out = []\n",
    "        while len(out) < N:\n",
    "            u = np.random.rand()\n",
    "            z_sample = np.random.uniform(zmin, zmax)\n",
    "            prob = func(z_sample)\n",
    "            if prob > u:\n",
    "                out.append(z_sample)\n",
    "        return np.array(out)\n",
    "\n",
    "ndraw = 1000\n",
    "z_positions = sample_pdf(ndraw, -2, 2, density_pdf)\n",
    "\n",
    "vz_samples = np.zeros_like(z_positions)\n",
    "\n",
    "plt.hist(density_samples)"
   ]
  },
  {
   "cell_type": "markdown",
   "metadata": {},
   "source": [
    "### Now initialize a bunch of test particles with values of (z, v_z) sampled from the unperturbed distribution function"
   ]
  },
  {
   "cell_type": "code",
   "execution_count": null,
   "metadata": {},
   "outputs": [],
   "source": [
    "class TestParticle(object):\n",
    "    \n",
    "    def __init__(self, z, vz):\n",
    "        \n",
    "        self.z = z\n",
    "        self.vz = vz\n",
    "        \n",
    "stars = []\n",
    "for i in range(0, ndraw):\n",
    "    stars.append(TestParticle(density_samples[i], vz_samples[i]))"
   ]
  },
  {
   "cell_type": "markdown",
   "metadata": {},
   "source": [
    "## Integrate the orbit of each star in the combined moving satellite potential and the potential of the MW"
   ]
  },
  {
   "cell_type": "code",
   "execution_count": null,
   "metadata": {},
   "outputs": [],
   "source": [
    "# the total potential from satellite + Milky Way\n",
    "satellite_moving_potential = MovingObjectPotential(satellite_orbit_list[0], satellite_potential)\n",
    "\n",
    "total_potential = potential_extension.galactic_potential\n",
    "total_vertical_potential = galpy.potential.toVerticalPotential(total_potential, 1., phi=0.)\n",
    "galpy.potential.turn_physical_off(total_vertical_potential)\n",
    "\n",
    "total_potential_with_satellite = satellite_moving_potential + potential_extension.galactic_potential\n",
    "total_vertical_potential_with_satellite = galpy.potential.toVerticalPotential(total_potential_with_satellite, 1., phi=0.)\n",
    "galpy.potential.turn_physical_off(total_vertical_potential_with_satellite)\n",
    "\n",
    "orbits = []\n",
    "for star in stars:\n",
    "    orb = Orbit([star.z/units['ro'], star.vz/units['vo']], ro=units['ro'], vo=units['vo'])\n",
    "    orb.turn_physical_off()\n",
    "    orb.integrate(time_internal_units, total_vertical_potential)\n",
    "    star.orbit = orb\n",
    "    \n",
    "orbits = []\n",
    "for star in stars:\n",
    "    orb = Orbit([star.z/units['ro'], star.vz/units['vo']], ro=units['ro'], vo=units['vo'])\n",
    "    orb.turn_physical_off()\n",
    "    orb.integrate(time_internal_units, total_vertical_potential)\n",
    "    star.orbit_with_satellite = orb"
   ]
  },
  {
   "cell_type": "code",
   "execution_count": null,
   "metadata": {},
   "outputs": [],
   "source": [
    "# the moving potential seems to have no effect on the orbit\n",
    "for star in stars:\n",
    "    plt.plot(star.orbit.t, star.orbit.x(time_internal_units)-star.orbit_with_satellite.x(time_internal_units));\n",
    "    plt.show()\n",
    "    a=input('conitnue')"
   ]
  },
  {
   "cell_type": "markdown",
   "metadata": {},
   "source": [
    "### Now rebin the test particles in order to compute the asymmetry and mean vertical velocity as a function of z"
   ]
  },
  {
   "cell_type": "code",
   "execution_count": null,
   "metadata": {},
   "outputs": [],
   "source": [
    "z_final = np.array([star.orbit.x(0.) * units['ro'] for star in stars])\n",
    "vz_final = np.array([star.orbit.vx(0.) * units['vo'] for star in stars])\n",
    "\n",
    "# rebin\n",
    "nbins = 51\n",
    "nbins_half = 25\n",
    "zbins = np.linspace(-2, 2, nbins)\n",
    "vzbins = np.linspace(-20, 20, nbins)\n",
    "\n",
    "mean_vertical_velocity = []\n",
    "for i in range(0, len(zbins)-1):\n",
    "    \n",
    "    # select only stars in \n",
    "    cond1 = np.where(z_final > zbins[i])[0]\n",
    "    cond2 = np.where(z_final <= zbins[i+1])[0]\n",
    "    cond = np.logical_and(z_final > zbins[i], z_final <= zbins[i+1])\n",
    "    inds = np.where(cond)\n",
    "    mean_vz = np.mean(vz_final[inds])\n",
    "    if np.isnan(mean_vz):\n",
    "        mean_vz = 0.\n",
    "    mean_vertical_velocity.append(mean_vz)\n",
    "    \n",
    "density, zbins = np.histogram(z_final, bins=zbins)\n",
    "density_low, density_high = density[0:nbins_half][::-1], density[nbins_half:]\n",
    "asymmetry = (density_high - density_low) / (density_low + density_high)"
   ]
  },
  {
   "cell_type": "code",
   "execution_count": null,
   "metadata": {},
   "outputs": [],
   "source": [
    "plt.scatter(zbins[0::2][0:-1], asymmetry)"
   ]
  },
  {
   "cell_type": "code",
   "execution_count": null,
   "metadata": {},
   "outputs": [],
   "source": [
    "mean_vertical_velocity_shifted = np.array(mean_vertical_velocity) - np.mean(mean_vertical_velocity)\n",
    "plt.plot(zbins[0:-1], mean_vertical_velocity_shifted)"
   ]
  },
  {
   "cell_type": "code",
   "execution_count": null,
   "metadata": {},
   "outputs": [],
   "source": [
    "# Now compute the action at each point in phase space (takes a long time)\n",
    "compute_from_scratch = True\n",
    "if compute_from_scratch:\n",
    "    potential_extension = PotentialExtension(total_potential, zmax, vmax, phase_space_dim)\n",
    "    f = open('potential_extension_test', 'wb')\n",
    "    pickle.dump(potential_extension, f)\n",
    "    f.close()\n",
    "else:\n",
    "    f = open('potential_extension_test', 'rb')\n",
    "    potential_extension = pickle.load(f)\n",
    "    f.close()"
   ]
  },
  {
   "cell_type": "code",
   "execution_count": null,
   "metadata": {},
   "outputs": [],
   "source": [
    "midplane_density = potential_extension.rho_midplane\n",
    "action = potential_extension.action\n",
    "vertical_freq = potential_extension.vertical_freq\n",
    "density_scale = util.bovy_conversion.dens_in_msolpc3(potential_extension.units['vo'], \n",
    "                                                     potential_extension.units['ro'])\n",
    "velocity_scale = potential_extension.units['vo']\n",
    "length_scale = potential_extension.units['ro']\n",
    "\n",
    "df = DistributionFunction(rho_midplane=midplane_density, normalization_list=[1.],\n",
    "                          velocity_dispersion_list=[20.5], J=action,\n",
    "                          nu=vertical_freq, v_domain=v_units_internal, z_domain=z_units_internal, length_scale=1.,\n",
    "                          velocity_scale=1., density_scale=1.)"
   ]
  },
  {
   "cell_type": "code",
   "execution_count": null,
   "metadata": {},
   "outputs": [],
   "source": [
    "vz = df.mean_v_relative\n",
    "plt.plot(vz)"
   ]
  },
  {
   "cell_type": "code",
   "execution_count": null,
   "metadata": {},
   "outputs": [],
   "source": []
  }
 ],
 "metadata": {
  "kernelspec": {
   "display_name": "Python 3",
   "language": "python",
   "name": "python3"
  },
  "language_info": {
   "codemirror_mode": {
    "name": "ipython",
    "version": 3
   },
   "file_extension": ".py",
   "mimetype": "text/x-python",
   "name": "python",
   "nbconvert_exporter": "python",
   "pygments_lexer": "ipython3",
   "version": "3.6.5"
  }
 },
 "nbformat": 4,
 "nbformat_minor": 2
}
