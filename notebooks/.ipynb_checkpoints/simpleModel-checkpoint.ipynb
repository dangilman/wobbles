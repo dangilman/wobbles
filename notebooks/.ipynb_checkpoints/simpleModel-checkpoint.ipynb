{
 "cells": [
  {
   "cell_type": "code",
   "execution_count": null,
   "metadata": {},
   "outputs": [],
   "source": [
    "import wobbles.wobbles as w\n",
    "import galpy\n",
    "import numpy as np\n",
    "import astropy.units as apu\n",
    "import galpy.orbit\n",
    "import matplotlib.pyplot as plt"
   ]
  },
  {
   "cell_type": "markdown",
   "metadata": {},
   "source": [
    "### Use galpy to integrate the orbit of the satellite"
   ]
  },
  {
   "cell_type": "code",
   "execution_count": null,
   "metadata": {},
   "outputs": [],
   "source": [
    "n_snaps = 1000 # Number of timesteps\n",
    "t_orbit = -1.64 # Gyr\n",
    "\n",
    "mwp= galpy.potential.MWPotential2014 # Define potential in which satellite orbit will be integrated\n",
    "times = np.linspace(0, t_orbit, n_snaps) * apu.Gyr \n",
    "init = [283. * apu.deg, -30. * apu.deg, 26. * apu.kpc,\n",
    "        -2.6 * apu.mas/apu.yr, -1.3 * apu.mas/apu.yr, 140. * apu.km/apu.s] # Initial conditions of the satellite\n",
    "\n",
    "o_sgr = galpy.orbit.Orbit(vxvv=init,radec=True) # Initialise orbit instance\n",
    "o_sgr.integrate(times, mwp) # Integrate orbit\n",
    "o_sgr.plot(d2='r') # Plot galactocentric radius as a function of time"
   ]
  },
  {
   "cell_type": "markdown",
   "metadata": {},
   "source": [
    "### Create the satellite potential"
   ]
  },
  {
   "cell_type": "code",
   "execution_count": null,
   "metadata": {},
   "outputs": [],
   "source": [
    "halo_pot= galpy.potential.HernquistPotential(amp=2.*1e10*apu.M_sun,a= 3.*apu.kpc) \n",
    "stlr_pot= galpy.potential.HernquistPotential(amp=2.*0.2e9*apu.M_sun,a=0.65*apu.kpc) \n",
    "\n",
    "sgr_pot= halo_pot+stlr_pot\n",
    "galpy.potential.turn_physical_off(sgr_pot)"
   ]
  },
  {
   "cell_type": "markdown",
   "metadata": {},
   "source": [
    "### Define the vertical (1-dimensional) potential in which the disc orbits will be integrated"
   ]
  },
  {
   "cell_type": "code",
   "execution_count": null,
   "metadata": {},
   "outputs": [],
   "source": [
    "verticalmwp= galpy.potential.toVerticalPotential(mwp,1.)"
   ]
  },
  {
   "cell_type": "markdown",
   "metadata": {},
   "source": [
    "### Create the Disc object that we want to perturb\n",
    "discpot= list of galpy potential objects  \n",
    "times= numpy array of times at which to integrate disc orbits (if the times are different when you add satellite, the code will reintegrate disc orbits)  \n",
    "zlim= phase space is evaluated for -zlim to zlim  \n",
    "vlim= phase space is evaluated for -vlim to vlim  \n",
    "zpt= number of points along z-axis  \n",
    "vpt= number of points along vz-axis"
   ]
  },
  {
   "cell_type": "code",
   "execution_count": null,
   "metadata": {},
   "outputs": [],
   "source": [
    "disc= w.Disc(discpot=[verticalmwp],times=o_sgr.t,zlim=2.,vlim=120.,zpt=50,vpt=50)"
   ]
  },
  {
   "cell_type": "markdown",
   "metadata": {},
   "source": [
    "### Add a perturbation to the disc\n",
    "\n",
    "If you want to add an arbitrary force, you can use add_force() instead.\n",
    "\n",
    "**satpot**= galpy potential of the satellite  \n",
    "**sat**= galpy orbit instance  \n",
    "**df_prop**= [[mid-plane densities],[velocity dispersion]] in internal galpy units.  \n",
    "**ftype**= 'static' or 'rotate'. Use 'rotate', it means the solar neighbourhood is orbiting the ga;actic centre  \n",
    "**tdep**= boolean. Do you want the perturbation calculated at each time step? Takes a pretty long time if True.  \n",
    "**method**= 'fast', 'slow', 'slowest'. When to use each  \n",
    "            'fast'- grid size smaller than 30 x 30   \n",
    "            'slow'- grid size larger than 30 x 30 and no time dependence  \n",
    "            'slowest'- grid size larger than 30 x 30 and time dependence  \n",
    "**zsun**= 'fit', 'mean' or None. 'fit' and 'mean' adjust for the location of the mid-plane (This is recommended). None does not adjust"
   ]
  },
  {
   "cell_type": "code",
   "execution_count": null,
   "metadata": {},
   "outputs": [],
   "source": [
    "p= galpy.potential.evaluateDensities(mwp,1.,0.) # find mid-plane density of MWPotential2014\n",
    "disc.add_satellite(satpot=sgr_pot,sat=o_sgr,df_prop=[[p],[20.5/220.]],ftype='rotate',\n",
    "                   tdep=False,method='slow',zsun='fit')"
   ]
  },
  {
   "cell_type": "markdown",
   "metadata": {},
   "source": [
    "### Plot properties of the orbit as well as asymmetry and mean vertical velocity for sample orbit"
   ]
  },
  {
   "cell_type": "code",
   "execution_count": null,
   "metadata": {},
   "outputs": [],
   "source": [
    "MTU= galpy.util.bovy_conversion.time_in_Gyr(220.,8.)\n",
    "\n",
    "fig,(ax1,ax2)= plt.subplots(2,1,figsize=(5,6),sharex=True)\n",
    "\n",
    "ax1.plot(o_sgr.t*MTU,o_sgr.r(o_sgr.t)*8.)\n",
    "ax2.plot(disc.t*MTU,disc.Force[0,0]*galpy.util.bovy_conversion.force_in_2piGmsolpc2(220.,8.))\n",
    "ax1.set_ylabel(r'$\\mathrm{r\\,(kpc)}$')\n",
    "ax2.set_ylabel(r'$\\mathrm{F_z\\,(2\\pi\\,G\\,M_\\odot\\,pc^{-2})}$')\n",
    "ax2.set_xlabel(r'$\\mathrm{t\\,(Gyr)}$')\n",
    "\n",
    "plt.subplots_adjust(wspace=0, hspace=0)\n",
    "\n",
    "fig,(ax1,ax2)= plt.subplots(2,1,figsize=(5,8),sharex=True)\n",
    "ax1.plot(disc.zA*8.,disc.A,c='C0')\n",
    "ax1.plot(-disc.zA*8.,-disc.A,c='C0',ls='--',alpha=0.7)\n",
    "ax2.plot(disc.z*8.,disc.meanV*220.)\n",
    "ax1.set_ylabel(r'$\\mathrm{A}$')\n",
    "ax2.set_ylabel(r'$\\langle v_{z}\\rangle\\,\\mathrm{(km\\,s^{-1})}$')\n",
    "ax2.set_xlabel(r'$\\mathrm{z\\,(kpc)}$')\n",
    "\n",
    "plt.subplots_adjust(wspace=0, hspace=0)"
   ]
  },
  {
   "cell_type": "code",
   "execution_count": null,
   "metadata": {},
   "outputs": [],
   "source": []
  }
 ],
 "metadata": {
  "kernelspec": {
   "display_name": "Python 3",
   "language": "python",
   "name": "python3"
  },
  "language_info": {
   "codemirror_mode": {
    "name": "ipython",
    "version": 3
   },
   "file_extension": ".py",
   "mimetype": "text/x-python",
   "name": "python",
   "nbconvert_exporter": "python",
   "pygments_lexer": "ipython3",
   "version": "3.6.5"
  }
 },
 "nbformat": 4,
 "nbformat_minor": 2
}
